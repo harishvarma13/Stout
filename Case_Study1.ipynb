{
 "cells": [
  {
   "cell_type": "markdown",
   "id": "2c7c722d",
   "metadata": {},
   "source": [
    "# Case Study 1"
   ]
  },
  {
   "cell_type": "markdown",
   "id": "0824b7be",
   "metadata": {},
   "source": [
    "# Importing Packages"
   ]
  },
  {
   "cell_type": "code",
   "execution_count": 93,
   "id": "db47b279",
   "metadata": {
    "id": "db47b279"
   },
   "outputs": [
    {
     "name": "stdout",
     "output_type": "stream",
     "text": [
      "Requirement already satisfied: pydot in c:\\users\\hp\\anaconda3\\lib\\site-packages (1.4.2)\n",
      "Requirement already satisfied: pyparsing>=2.1.4 in c:\\users\\hp\\anaconda3\\lib\\site-packages (from pydot) (2.4.7)\n",
      "Note: you may need to restart the kernel to use updated packages.\n",
      "Requirement already satisfied: graphviz in c:\\users\\hp\\anaconda3\\lib\\site-packages (0.17)\n",
      "Note: you may need to restart the kernel to use updated packages.\n"
     ]
    }
   ],
   "source": [
    "import pandas as pd\n",
    "import numpy as np\n",
    "from sklearn.preprocessing import StandardScaler\n",
    "from sklearn.feature_selection import SelectFromModel\n",
    "from sklearn.linear_model import LogisticRegression\n",
    "import matplotlib.pyplot as plt\n",
    "from sklearn.linear_model import Ridge, Lasso\n",
    "from sklearn.metrics import mean_squared_error,r2_score\n",
    "from sklearn.model_selection import train_test_split, cross_val_score\n",
    "from sklearn import model_selection\n",
    "from sklearn.linear_model import RidgeCV, LassoCV\n",
    "from sklearn.ensemble import RandomForestRegressor\n",
    "from sklearn.linear_model import LinearRegression\n",
    "import seaborn as sb\n",
    "%pip install pydot\n",
    "%pip install graphviz\n",
    "import pydot\n",
    "import graphviz\n",
    "\n"
   ]
  },
  {
   "cell_type": "markdown",
   "id": "34370c35",
   "metadata": {},
   "source": [
    "# Read file into dataframe"
   ]
  },
  {
   "cell_type": "code",
   "execution_count": 94,
   "id": "96793d6c",
   "metadata": {
    "id": "96793d6c"
   },
   "outputs": [],
   "source": [
    "df = pd.read_csv(\"loans_full_schema.csv\")"
   ]
  },
  {
   "cell_type": "code",
   "execution_count": 95,
   "id": "c6dd9b3f",
   "metadata": {
    "colab": {
     "base_uri": "https://localhost:8080/",
     "height": 309
    },
    "id": "c6dd9b3f",
    "outputId": "ce978f5e-e521-44c2-dcf7-2ada6a2b5e9b"
   },
   "outputs": [
    {
     "data": {
      "text/html": [
       "<div>\n",
       "<style scoped>\n",
       "    .dataframe tbody tr th:only-of-type {\n",
       "        vertical-align: middle;\n",
       "    }\n",
       "\n",
       "    .dataframe tbody tr th {\n",
       "        vertical-align: top;\n",
       "    }\n",
       "\n",
       "    .dataframe thead th {\n",
       "        text-align: right;\n",
       "    }\n",
       "</style>\n",
       "<table border=\"1\" class=\"dataframe\">\n",
       "  <thead>\n",
       "    <tr style=\"text-align: right;\">\n",
       "      <th></th>\n",
       "      <th>emp_title</th>\n",
       "      <th>emp_length</th>\n",
       "      <th>state</th>\n",
       "      <th>homeownership</th>\n",
       "      <th>annual_income</th>\n",
       "      <th>verified_income</th>\n",
       "      <th>debt_to_income</th>\n",
       "      <th>annual_income_joint</th>\n",
       "      <th>verification_income_joint</th>\n",
       "      <th>debt_to_income_joint</th>\n",
       "      <th>...</th>\n",
       "      <th>sub_grade</th>\n",
       "      <th>issue_month</th>\n",
       "      <th>loan_status</th>\n",
       "      <th>initial_listing_status</th>\n",
       "      <th>disbursement_method</th>\n",
       "      <th>balance</th>\n",
       "      <th>paid_total</th>\n",
       "      <th>paid_principal</th>\n",
       "      <th>paid_interest</th>\n",
       "      <th>paid_late_fees</th>\n",
       "    </tr>\n",
       "  </thead>\n",
       "  <tbody>\n",
       "    <tr>\n",
       "      <th>0</th>\n",
       "      <td>global config engineer</td>\n",
       "      <td>3.0</td>\n",
       "      <td>NJ</td>\n",
       "      <td>MORTGAGE</td>\n",
       "      <td>90000.0</td>\n",
       "      <td>Verified</td>\n",
       "      <td>18.01</td>\n",
       "      <td>NaN</td>\n",
       "      <td>NaN</td>\n",
       "      <td>NaN</td>\n",
       "      <td>...</td>\n",
       "      <td>C3</td>\n",
       "      <td>Mar-2018</td>\n",
       "      <td>Current</td>\n",
       "      <td>whole</td>\n",
       "      <td>Cash</td>\n",
       "      <td>27015.86</td>\n",
       "      <td>1999.33</td>\n",
       "      <td>984.14</td>\n",
       "      <td>1015.19</td>\n",
       "      <td>0.0</td>\n",
       "    </tr>\n",
       "    <tr>\n",
       "      <th>1</th>\n",
       "      <td>warehouse office clerk</td>\n",
       "      <td>10.0</td>\n",
       "      <td>HI</td>\n",
       "      <td>RENT</td>\n",
       "      <td>40000.0</td>\n",
       "      <td>Not Verified</td>\n",
       "      <td>5.04</td>\n",
       "      <td>NaN</td>\n",
       "      <td>NaN</td>\n",
       "      <td>NaN</td>\n",
       "      <td>...</td>\n",
       "      <td>C1</td>\n",
       "      <td>Feb-2018</td>\n",
       "      <td>Current</td>\n",
       "      <td>whole</td>\n",
       "      <td>Cash</td>\n",
       "      <td>4651.37</td>\n",
       "      <td>499.12</td>\n",
       "      <td>348.63</td>\n",
       "      <td>150.49</td>\n",
       "      <td>0.0</td>\n",
       "    </tr>\n",
       "    <tr>\n",
       "      <th>2</th>\n",
       "      <td>assembly</td>\n",
       "      <td>3.0</td>\n",
       "      <td>WI</td>\n",
       "      <td>RENT</td>\n",
       "      <td>40000.0</td>\n",
       "      <td>Source Verified</td>\n",
       "      <td>21.15</td>\n",
       "      <td>NaN</td>\n",
       "      <td>NaN</td>\n",
       "      <td>NaN</td>\n",
       "      <td>...</td>\n",
       "      <td>D1</td>\n",
       "      <td>Feb-2018</td>\n",
       "      <td>Current</td>\n",
       "      <td>fractional</td>\n",
       "      <td>Cash</td>\n",
       "      <td>1824.63</td>\n",
       "      <td>281.80</td>\n",
       "      <td>175.37</td>\n",
       "      <td>106.43</td>\n",
       "      <td>0.0</td>\n",
       "    </tr>\n",
       "    <tr>\n",
       "      <th>3</th>\n",
       "      <td>customer service</td>\n",
       "      <td>1.0</td>\n",
       "      <td>PA</td>\n",
       "      <td>RENT</td>\n",
       "      <td>30000.0</td>\n",
       "      <td>Not Verified</td>\n",
       "      <td>10.16</td>\n",
       "      <td>NaN</td>\n",
       "      <td>NaN</td>\n",
       "      <td>NaN</td>\n",
       "      <td>...</td>\n",
       "      <td>A3</td>\n",
       "      <td>Jan-2018</td>\n",
       "      <td>Current</td>\n",
       "      <td>whole</td>\n",
       "      <td>Cash</td>\n",
       "      <td>18853.26</td>\n",
       "      <td>3312.89</td>\n",
       "      <td>2746.74</td>\n",
       "      <td>566.15</td>\n",
       "      <td>0.0</td>\n",
       "    </tr>\n",
       "    <tr>\n",
       "      <th>4</th>\n",
       "      <td>security supervisor</td>\n",
       "      <td>10.0</td>\n",
       "      <td>CA</td>\n",
       "      <td>RENT</td>\n",
       "      <td>35000.0</td>\n",
       "      <td>Verified</td>\n",
       "      <td>57.96</td>\n",
       "      <td>57000.0</td>\n",
       "      <td>Verified</td>\n",
       "      <td>37.66</td>\n",
       "      <td>...</td>\n",
       "      <td>C3</td>\n",
       "      <td>Mar-2018</td>\n",
       "      <td>Current</td>\n",
       "      <td>whole</td>\n",
       "      <td>Cash</td>\n",
       "      <td>21430.15</td>\n",
       "      <td>2324.65</td>\n",
       "      <td>1569.85</td>\n",
       "      <td>754.80</td>\n",
       "      <td>0.0</td>\n",
       "    </tr>\n",
       "  </tbody>\n",
       "</table>\n",
       "<p>5 rows × 55 columns</p>\n",
       "</div>"
      ],
      "text/plain": [
       "                 emp_title  emp_length state homeownership  annual_income  \\\n",
       "0  global config engineer          3.0    NJ      MORTGAGE        90000.0   \n",
       "1   warehouse office clerk        10.0    HI          RENT        40000.0   \n",
       "2                 assembly         3.0    WI          RENT        40000.0   \n",
       "3         customer service         1.0    PA          RENT        30000.0   \n",
       "4     security supervisor         10.0    CA          RENT        35000.0   \n",
       "\n",
       "   verified_income  debt_to_income  annual_income_joint  \\\n",
       "0         Verified           18.01                  NaN   \n",
       "1     Not Verified            5.04                  NaN   \n",
       "2  Source Verified           21.15                  NaN   \n",
       "3     Not Verified           10.16                  NaN   \n",
       "4         Verified           57.96              57000.0   \n",
       "\n",
       "  verification_income_joint  debt_to_income_joint  ...  sub_grade  \\\n",
       "0                       NaN                   NaN  ...         C3   \n",
       "1                       NaN                   NaN  ...         C1   \n",
       "2                       NaN                   NaN  ...         D1   \n",
       "3                       NaN                   NaN  ...         A3   \n",
       "4                  Verified                 37.66  ...         C3   \n",
       "\n",
       "   issue_month  loan_status  initial_listing_status  disbursement_method  \\\n",
       "0     Mar-2018      Current                   whole                 Cash   \n",
       "1     Feb-2018      Current                   whole                 Cash   \n",
       "2     Feb-2018      Current              fractional                 Cash   \n",
       "3     Jan-2018      Current                   whole                 Cash   \n",
       "4     Mar-2018      Current                   whole                 Cash   \n",
       "\n",
       "    balance  paid_total  paid_principal  paid_interest  paid_late_fees  \n",
       "0  27015.86     1999.33          984.14        1015.19             0.0  \n",
       "1   4651.37      499.12          348.63         150.49             0.0  \n",
       "2   1824.63      281.80          175.37         106.43             0.0  \n",
       "3  18853.26     3312.89         2746.74         566.15             0.0  \n",
       "4  21430.15     2324.65         1569.85         754.80             0.0  \n",
       "\n",
       "[5 rows x 55 columns]"
      ]
     },
     "execution_count": 95,
     "metadata": {},
     "output_type": "execute_result"
    }
   ],
   "source": [
    "df.head()"
   ]
  },
  {
   "cell_type": "code",
   "execution_count": 96,
   "id": "51e32719",
   "metadata": {
    "colab": {
     "base_uri": "https://localhost:8080/",
     "height": 317
    },
    "id": "51e32719",
    "outputId": "3756fda1-b85d-4227-f1a0-8e33ff9d6249"
   },
   "outputs": [
    {
     "data": {
      "text/html": [
       "<div>\n",
       "<style scoped>\n",
       "    .dataframe tbody tr th:only-of-type {\n",
       "        vertical-align: middle;\n",
       "    }\n",
       "\n",
       "    .dataframe tbody tr th {\n",
       "        vertical-align: top;\n",
       "    }\n",
       "\n",
       "    .dataframe thead th {\n",
       "        text-align: right;\n",
       "    }\n",
       "</style>\n",
       "<table border=\"1\" class=\"dataframe\">\n",
       "  <thead>\n",
       "    <tr style=\"text-align: right;\">\n",
       "      <th></th>\n",
       "      <th>emp_length</th>\n",
       "      <th>annual_income</th>\n",
       "      <th>debt_to_income</th>\n",
       "      <th>annual_income_joint</th>\n",
       "      <th>debt_to_income_joint</th>\n",
       "      <th>delinq_2y</th>\n",
       "      <th>months_since_last_delinq</th>\n",
       "      <th>earliest_credit_line</th>\n",
       "      <th>inquiries_last_12m</th>\n",
       "      <th>total_credit_lines</th>\n",
       "      <th>...</th>\n",
       "      <th>public_record_bankrupt</th>\n",
       "      <th>loan_amount</th>\n",
       "      <th>term</th>\n",
       "      <th>interest_rate</th>\n",
       "      <th>installment</th>\n",
       "      <th>balance</th>\n",
       "      <th>paid_total</th>\n",
       "      <th>paid_principal</th>\n",
       "      <th>paid_interest</th>\n",
       "      <th>paid_late_fees</th>\n",
       "    </tr>\n",
       "  </thead>\n",
       "  <tbody>\n",
       "    <tr>\n",
       "      <th>count</th>\n",
       "      <td>9183.000000</td>\n",
       "      <td>1.000000e+04</td>\n",
       "      <td>9976.000000</td>\n",
       "      <td>1.495000e+03</td>\n",
       "      <td>1495.000000</td>\n",
       "      <td>10000.00000</td>\n",
       "      <td>4342.000000</td>\n",
       "      <td>10000.00000</td>\n",
       "      <td>10000.00000</td>\n",
       "      <td>10000.000000</td>\n",
       "      <td>...</td>\n",
       "      <td>10000.000000</td>\n",
       "      <td>10000.000000</td>\n",
       "      <td>10000.000000</td>\n",
       "      <td>10000.000000</td>\n",
       "      <td>10000.000000</td>\n",
       "      <td>10000.000000</td>\n",
       "      <td>10000.000000</td>\n",
       "      <td>10000.000000</td>\n",
       "      <td>10000.000000</td>\n",
       "      <td>10000.000000</td>\n",
       "    </tr>\n",
       "    <tr>\n",
       "      <th>mean</th>\n",
       "      <td>5.930306</td>\n",
       "      <td>7.922215e+04</td>\n",
       "      <td>19.308192</td>\n",
       "      <td>1.279146e+05</td>\n",
       "      <td>19.979304</td>\n",
       "      <td>0.21600</td>\n",
       "      <td>36.760709</td>\n",
       "      <td>2001.29000</td>\n",
       "      <td>1.95820</td>\n",
       "      <td>22.679600</td>\n",
       "      <td>...</td>\n",
       "      <td>0.123800</td>\n",
       "      <td>16361.922500</td>\n",
       "      <td>43.272000</td>\n",
       "      <td>12.427524</td>\n",
       "      <td>476.205323</td>\n",
       "      <td>14458.916610</td>\n",
       "      <td>2494.234773</td>\n",
       "      <td>1894.448466</td>\n",
       "      <td>599.666781</td>\n",
       "      <td>0.119516</td>\n",
       "    </tr>\n",
       "    <tr>\n",
       "      <th>std</th>\n",
       "      <td>3.703734</td>\n",
       "      <td>6.473429e+04</td>\n",
       "      <td>15.004851</td>\n",
       "      <td>7.016838e+04</td>\n",
       "      <td>8.054781</td>\n",
       "      <td>0.68366</td>\n",
       "      <td>21.634939</td>\n",
       "      <td>7.79551</td>\n",
       "      <td>2.38013</td>\n",
       "      <td>11.885439</td>\n",
       "      <td>...</td>\n",
       "      <td>0.337172</td>\n",
       "      <td>10301.956759</td>\n",
       "      <td>11.029877</td>\n",
       "      <td>5.001105</td>\n",
       "      <td>294.851627</td>\n",
       "      <td>9964.561865</td>\n",
       "      <td>3958.230365</td>\n",
       "      <td>3884.407175</td>\n",
       "      <td>517.328062</td>\n",
       "      <td>1.813468</td>\n",
       "    </tr>\n",
       "    <tr>\n",
       "      <th>min</th>\n",
       "      <td>0.000000</td>\n",
       "      <td>0.000000e+00</td>\n",
       "      <td>0.000000</td>\n",
       "      <td>1.920000e+04</td>\n",
       "      <td>0.320000</td>\n",
       "      <td>0.00000</td>\n",
       "      <td>1.000000</td>\n",
       "      <td>1963.00000</td>\n",
       "      <td>0.00000</td>\n",
       "      <td>2.000000</td>\n",
       "      <td>...</td>\n",
       "      <td>0.000000</td>\n",
       "      <td>1000.000000</td>\n",
       "      <td>36.000000</td>\n",
       "      <td>5.310000</td>\n",
       "      <td>30.750000</td>\n",
       "      <td>0.000000</td>\n",
       "      <td>0.000000</td>\n",
       "      <td>0.000000</td>\n",
       "      <td>0.000000</td>\n",
       "      <td>0.000000</td>\n",
       "    </tr>\n",
       "    <tr>\n",
       "      <th>25%</th>\n",
       "      <td>2.000000</td>\n",
       "      <td>4.500000e+04</td>\n",
       "      <td>11.057500</td>\n",
       "      <td>8.683350e+04</td>\n",
       "      <td>14.160000</td>\n",
       "      <td>0.00000</td>\n",
       "      <td>19.000000</td>\n",
       "      <td>1997.00000</td>\n",
       "      <td>0.00000</td>\n",
       "      <td>14.000000</td>\n",
       "      <td>...</td>\n",
       "      <td>0.000000</td>\n",
       "      <td>8000.000000</td>\n",
       "      <td>36.000000</td>\n",
       "      <td>9.430000</td>\n",
       "      <td>256.040000</td>\n",
       "      <td>6679.065000</td>\n",
       "      <td>928.700000</td>\n",
       "      <td>587.100000</td>\n",
       "      <td>221.757500</td>\n",
       "      <td>0.000000</td>\n",
       "    </tr>\n",
       "    <tr>\n",
       "      <th>50%</th>\n",
       "      <td>6.000000</td>\n",
       "      <td>6.500000e+04</td>\n",
       "      <td>17.570000</td>\n",
       "      <td>1.130000e+05</td>\n",
       "      <td>19.720000</td>\n",
       "      <td>0.00000</td>\n",
       "      <td>34.000000</td>\n",
       "      <td>2003.00000</td>\n",
       "      <td>1.00000</td>\n",
       "      <td>21.000000</td>\n",
       "      <td>...</td>\n",
       "      <td>0.000000</td>\n",
       "      <td>14500.000000</td>\n",
       "      <td>36.000000</td>\n",
       "      <td>11.980000</td>\n",
       "      <td>398.420000</td>\n",
       "      <td>12379.495000</td>\n",
       "      <td>1563.300000</td>\n",
       "      <td>984.990000</td>\n",
       "      <td>446.140000</td>\n",
       "      <td>0.000000</td>\n",
       "    </tr>\n",
       "    <tr>\n",
       "      <th>75%</th>\n",
       "      <td>10.000000</td>\n",
       "      <td>9.500000e+04</td>\n",
       "      <td>25.002500</td>\n",
       "      <td>1.515455e+05</td>\n",
       "      <td>25.500000</td>\n",
       "      <td>0.00000</td>\n",
       "      <td>53.000000</td>\n",
       "      <td>2006.00000</td>\n",
       "      <td>3.00000</td>\n",
       "      <td>29.000000</td>\n",
       "      <td>...</td>\n",
       "      <td>0.000000</td>\n",
       "      <td>24000.000000</td>\n",
       "      <td>60.000000</td>\n",
       "      <td>15.050000</td>\n",
       "      <td>644.690000</td>\n",
       "      <td>20690.182500</td>\n",
       "      <td>2616.005000</td>\n",
       "      <td>1694.555000</td>\n",
       "      <td>825.420000</td>\n",
       "      <td>0.000000</td>\n",
       "    </tr>\n",
       "    <tr>\n",
       "      <th>max</th>\n",
       "      <td>10.000000</td>\n",
       "      <td>2.300000e+06</td>\n",
       "      <td>469.090000</td>\n",
       "      <td>1.100000e+06</td>\n",
       "      <td>39.980000</td>\n",
       "      <td>13.00000</td>\n",
       "      <td>118.000000</td>\n",
       "      <td>2015.00000</td>\n",
       "      <td>29.00000</td>\n",
       "      <td>87.000000</td>\n",
       "      <td>...</td>\n",
       "      <td>3.000000</td>\n",
       "      <td>40000.000000</td>\n",
       "      <td>60.000000</td>\n",
       "      <td>30.940000</td>\n",
       "      <td>1566.590000</td>\n",
       "      <td>40000.000000</td>\n",
       "      <td>41630.443684</td>\n",
       "      <td>40000.000000</td>\n",
       "      <td>4216.440000</td>\n",
       "      <td>52.980000</td>\n",
       "    </tr>\n",
       "  </tbody>\n",
       "</table>\n",
       "<p>8 rows × 42 columns</p>\n",
       "</div>"
      ],
      "text/plain": [
       "        emp_length  annual_income  debt_to_income  annual_income_joint  \\\n",
       "count  9183.000000   1.000000e+04     9976.000000         1.495000e+03   \n",
       "mean      5.930306   7.922215e+04       19.308192         1.279146e+05   \n",
       "std       3.703734   6.473429e+04       15.004851         7.016838e+04   \n",
       "min       0.000000   0.000000e+00        0.000000         1.920000e+04   \n",
       "25%       2.000000   4.500000e+04       11.057500         8.683350e+04   \n",
       "50%       6.000000   6.500000e+04       17.570000         1.130000e+05   \n",
       "75%      10.000000   9.500000e+04       25.002500         1.515455e+05   \n",
       "max      10.000000   2.300000e+06      469.090000         1.100000e+06   \n",
       "\n",
       "       debt_to_income_joint    delinq_2y  months_since_last_delinq  \\\n",
       "count           1495.000000  10000.00000               4342.000000   \n",
       "mean              19.979304      0.21600                 36.760709   \n",
       "std                8.054781      0.68366                 21.634939   \n",
       "min                0.320000      0.00000                  1.000000   \n",
       "25%               14.160000      0.00000                 19.000000   \n",
       "50%               19.720000      0.00000                 34.000000   \n",
       "75%               25.500000      0.00000                 53.000000   \n",
       "max               39.980000     13.00000                118.000000   \n",
       "\n",
       "       earliest_credit_line  inquiries_last_12m  total_credit_lines  ...  \\\n",
       "count           10000.00000         10000.00000        10000.000000  ...   \n",
       "mean             2001.29000             1.95820           22.679600  ...   \n",
       "std                 7.79551             2.38013           11.885439  ...   \n",
       "min              1963.00000             0.00000            2.000000  ...   \n",
       "25%              1997.00000             0.00000           14.000000  ...   \n",
       "50%              2003.00000             1.00000           21.000000  ...   \n",
       "75%              2006.00000             3.00000           29.000000  ...   \n",
       "max              2015.00000            29.00000           87.000000  ...   \n",
       "\n",
       "       public_record_bankrupt   loan_amount          term  interest_rate  \\\n",
       "count            10000.000000  10000.000000  10000.000000   10000.000000   \n",
       "mean                 0.123800  16361.922500     43.272000      12.427524   \n",
       "std                  0.337172  10301.956759     11.029877       5.001105   \n",
       "min                  0.000000   1000.000000     36.000000       5.310000   \n",
       "25%                  0.000000   8000.000000     36.000000       9.430000   \n",
       "50%                  0.000000  14500.000000     36.000000      11.980000   \n",
       "75%                  0.000000  24000.000000     60.000000      15.050000   \n",
       "max                  3.000000  40000.000000     60.000000      30.940000   \n",
       "\n",
       "        installment       balance    paid_total  paid_principal  \\\n",
       "count  10000.000000  10000.000000  10000.000000    10000.000000   \n",
       "mean     476.205323  14458.916610   2494.234773     1894.448466   \n",
       "std      294.851627   9964.561865   3958.230365     3884.407175   \n",
       "min       30.750000      0.000000      0.000000        0.000000   \n",
       "25%      256.040000   6679.065000    928.700000      587.100000   \n",
       "50%      398.420000  12379.495000   1563.300000      984.990000   \n",
       "75%      644.690000  20690.182500   2616.005000     1694.555000   \n",
       "max     1566.590000  40000.000000  41630.443684    40000.000000   \n",
       "\n",
       "       paid_interest  paid_late_fees  \n",
       "count   10000.000000    10000.000000  \n",
       "mean      599.666781        0.119516  \n",
       "std       517.328062        1.813468  \n",
       "min         0.000000        0.000000  \n",
       "25%       221.757500        0.000000  \n",
       "50%       446.140000        0.000000  \n",
       "75%       825.420000        0.000000  \n",
       "max      4216.440000       52.980000  \n",
       "\n",
       "[8 rows x 42 columns]"
      ]
     },
     "execution_count": 96,
     "metadata": {},
     "output_type": "execute_result"
    }
   ],
   "source": [
    "df.describe()"
   ]
  },
  {
   "cell_type": "markdown",
   "id": "e01a3811",
   "metadata": {},
   "source": [
    "Each feature statistics as be seen from the above describe dataframe"
   ]
  },
  {
   "cell_type": "code",
   "execution_count": 97,
   "id": "97fe13e5",
   "metadata": {
    "colab": {
     "base_uri": "https://localhost:8080/"
    },
    "id": "97fe13e5",
    "outputId": "816767a4-5de7-4db6-b333-655927431664"
   },
   "outputs": [
    {
     "name": "stdout",
     "output_type": "stream",
     "text": [
      "<class 'pandas.core.frame.DataFrame'>\n",
      "RangeIndex: 10000 entries, 0 to 9999\n",
      "Data columns (total 55 columns):\n",
      " #   Column                            Non-Null Count  Dtype  \n",
      "---  ------                            --------------  -----  \n",
      " 0   emp_title                         9167 non-null   object \n",
      " 1   emp_length                        9183 non-null   float64\n",
      " 2   state                             10000 non-null  object \n",
      " 3   homeownership                     10000 non-null  object \n",
      " 4   annual_income                     10000 non-null  float64\n",
      " 5   verified_income                   10000 non-null  object \n",
      " 6   debt_to_income                    9976 non-null   float64\n",
      " 7   annual_income_joint               1495 non-null   float64\n",
      " 8   verification_income_joint         1455 non-null   object \n",
      " 9   debt_to_income_joint              1495 non-null   float64\n",
      " 10  delinq_2y                         10000 non-null  int64  \n",
      " 11  months_since_last_delinq          4342 non-null   float64\n",
      " 12  earliest_credit_line              10000 non-null  int64  \n",
      " 13  inquiries_last_12m                10000 non-null  int64  \n",
      " 14  total_credit_lines                10000 non-null  int64  \n",
      " 15  open_credit_lines                 10000 non-null  int64  \n",
      " 16  total_credit_limit                10000 non-null  int64  \n",
      " 17  total_credit_utilized             10000 non-null  int64  \n",
      " 18  num_collections_last_12m          10000 non-null  int64  \n",
      " 19  num_historical_failed_to_pay      10000 non-null  int64  \n",
      " 20  months_since_90d_late             2285 non-null   float64\n",
      " 21  current_accounts_delinq           10000 non-null  int64  \n",
      " 22  total_collection_amount_ever      10000 non-null  int64  \n",
      " 23  current_installment_accounts      10000 non-null  int64  \n",
      " 24  accounts_opened_24m               10000 non-null  int64  \n",
      " 25  months_since_last_credit_inquiry  8729 non-null   float64\n",
      " 26  num_satisfactory_accounts         10000 non-null  int64  \n",
      " 27  num_accounts_120d_past_due        9682 non-null   float64\n",
      " 28  num_accounts_30d_past_due         10000 non-null  int64  \n",
      " 29  num_active_debit_accounts         10000 non-null  int64  \n",
      " 30  total_debit_limit                 10000 non-null  int64  \n",
      " 31  num_total_cc_accounts             10000 non-null  int64  \n",
      " 32  num_open_cc_accounts              10000 non-null  int64  \n",
      " 33  num_cc_carrying_balance           10000 non-null  int64  \n",
      " 34  num_mort_accounts                 10000 non-null  int64  \n",
      " 35  account_never_delinq_percent      10000 non-null  float64\n",
      " 36  tax_liens                         10000 non-null  int64  \n",
      " 37  public_record_bankrupt            10000 non-null  int64  \n",
      " 38  loan_purpose                      10000 non-null  object \n",
      " 39  application_type                  10000 non-null  object \n",
      " 40  loan_amount                       10000 non-null  int64  \n",
      " 41  term                              10000 non-null  int64  \n",
      " 42  interest_rate                     10000 non-null  float64\n",
      " 43  installment                       10000 non-null  float64\n",
      " 44  grade                             10000 non-null  object \n",
      " 45  sub_grade                         10000 non-null  object \n",
      " 46  issue_month                       10000 non-null  object \n",
      " 47  loan_status                       10000 non-null  object \n",
      " 48  initial_listing_status            10000 non-null  object \n",
      " 49  disbursement_method               10000 non-null  object \n",
      " 50  balance                           10000 non-null  float64\n",
      " 51  paid_total                        10000 non-null  float64\n",
      " 52  paid_principal                    10000 non-null  float64\n",
      " 53  paid_interest                     10000 non-null  float64\n",
      " 54  paid_late_fees                    10000 non-null  float64\n",
      "dtypes: float64(17), int64(25), object(13)\n",
      "memory usage: 4.2+ MB\n"
     ]
    }
   ],
   "source": [
    "df.info()"
   ]
  },
  {
   "cell_type": "markdown",
   "id": "a6d3d0ce",
   "metadata": {},
   "source": [
    "# Dimension of data "
   ]
  },
  {
   "cell_type": "code",
   "execution_count": 98,
   "id": "66c3bd69",
   "metadata": {
    "colab": {
     "base_uri": "https://localhost:8080/"
    },
    "id": "66c3bd69",
    "outputId": "0fe962d6-5314-4efe-c98f-686d4f7c640d"
   },
   "outputs": [
    {
     "data": {
      "text/plain": [
       "(10000, 55)"
      ]
     },
     "execution_count": 98,
     "metadata": {},
     "output_type": "execute_result"
    }
   ],
   "source": [
    "df.shape"
   ]
  },
  {
   "cell_type": "markdown",
   "id": "e380ac6b",
   "metadata": {},
   "source": [
    "# Duplicate Value Check"
   ]
  },
  {
   "cell_type": "code",
   "execution_count": 99,
   "id": "a3807b48",
   "metadata": {
    "colab": {
     "base_uri": "https://localhost:8080/"
    },
    "id": "a3807b48",
    "outputId": "21abed70-c698-426b-a92f-ed7663bc7ae6"
   },
   "outputs": [
    {
     "data": {
      "text/plain": [
       "0"
      ]
     },
     "execution_count": 99,
     "metadata": {},
     "output_type": "execute_result"
    }
   ],
   "source": [
    "df.duplicated().sum()"
   ]
  },
  {
   "cell_type": "markdown",
   "id": "78f0b93c",
   "metadata": {},
   "source": [
    "# Null Value Check "
   ]
  },
  {
   "cell_type": "code",
   "execution_count": 100,
   "id": "a55374cc",
   "metadata": {
    "colab": {
     "base_uri": "https://localhost:8080/"
    },
    "id": "a55374cc",
    "outputId": "b6d3ecc3-27a8-469a-a7a2-2068af5cf747"
   },
   "outputs": [
    {
     "data": {
      "text/plain": [
       "emp_title                           0.0833\n",
       "emp_length                          0.0817\n",
       "state                               0.0000\n",
       "homeownership                       0.0000\n",
       "annual_income                       0.0000\n",
       "verified_income                     0.0000\n",
       "debt_to_income                      0.0024\n",
       "annual_income_joint                 0.8505\n",
       "verification_income_joint           0.8545\n",
       "debt_to_income_joint                0.8505\n",
       "delinq_2y                           0.0000\n",
       "months_since_last_delinq            0.5658\n",
       "earliest_credit_line                0.0000\n",
       "inquiries_last_12m                  0.0000\n",
       "total_credit_lines                  0.0000\n",
       "open_credit_lines                   0.0000\n",
       "total_credit_limit                  0.0000\n",
       "total_credit_utilized               0.0000\n",
       "num_collections_last_12m            0.0000\n",
       "num_historical_failed_to_pay        0.0000\n",
       "months_since_90d_late               0.7715\n",
       "current_accounts_delinq             0.0000\n",
       "total_collection_amount_ever        0.0000\n",
       "current_installment_accounts        0.0000\n",
       "accounts_opened_24m                 0.0000\n",
       "months_since_last_credit_inquiry    0.1271\n",
       "num_satisfactory_accounts           0.0000\n",
       "num_accounts_120d_past_due          0.0318\n",
       "num_accounts_30d_past_due           0.0000\n",
       "num_active_debit_accounts           0.0000\n",
       "total_debit_limit                   0.0000\n",
       "num_total_cc_accounts               0.0000\n",
       "num_open_cc_accounts                0.0000\n",
       "num_cc_carrying_balance             0.0000\n",
       "num_mort_accounts                   0.0000\n",
       "account_never_delinq_percent        0.0000\n",
       "tax_liens                           0.0000\n",
       "public_record_bankrupt              0.0000\n",
       "loan_purpose                        0.0000\n",
       "application_type                    0.0000\n",
       "loan_amount                         0.0000\n",
       "term                                0.0000\n",
       "interest_rate                       0.0000\n",
       "installment                         0.0000\n",
       "grade                               0.0000\n",
       "sub_grade                           0.0000\n",
       "issue_month                         0.0000\n",
       "loan_status                         0.0000\n",
       "initial_listing_status              0.0000\n",
       "disbursement_method                 0.0000\n",
       "balance                             0.0000\n",
       "paid_total                          0.0000\n",
       "paid_principal                      0.0000\n",
       "paid_interest                       0.0000\n",
       "paid_late_fees                      0.0000\n",
       "dtype: float64"
      ]
     },
     "execution_count": 100,
     "metadata": {},
     "output_type": "execute_result"
    }
   ],
   "source": [
    "df.isnull().mean()"
   ]
  },
  {
   "cell_type": "code",
   "execution_count": 101,
   "id": "6d409cf7",
   "metadata": {
    "id": "6d409cf7"
   },
   "outputs": [],
   "source": [
    "missing_features = df.columns[df.isnull().mean() > 0.5]"
   ]
  },
  {
   "cell_type": "code",
   "execution_count": 102,
   "id": "3b1d0ca8",
   "metadata": {
    "colab": {
     "base_uri": "https://localhost:8080/"
    },
    "id": "3b1d0ca8",
    "outputId": "3111da3f-87f3-435e-bae1-3b8c6c544a28"
   },
   "outputs": [
    {
     "data": {
      "text/plain": [
       "Index(['annual_income_joint', 'verification_income_joint',\n",
       "       'debt_to_income_joint', 'months_since_last_delinq',\n",
       "       'months_since_90d_late'],\n",
       "      dtype='object')"
      ]
     },
     "execution_count": 102,
     "metadata": {},
     "output_type": "execute_result"
    }
   ],
   "source": [
    "missing_features"
   ]
  },
  {
   "cell_type": "markdown",
   "id": "bef7aabe",
   "metadata": {},
   "source": [
    "# Delete features were more than 50% values are missing"
   ]
  },
  {
   "cell_type": "code",
   "execution_count": 103,
   "id": "dd8525ef",
   "metadata": {
    "id": "dd8525ef"
   },
   "outputs": [],
   "source": [
    "df.drop(missing_features, axis=1, inplace=True)"
   ]
  },
  {
   "cell_type": "code",
   "execution_count": 104,
   "id": "b5187649",
   "metadata": {
    "colab": {
     "base_uri": "https://localhost:8080/"
    },
    "id": "b5187649",
    "outputId": "7e5810a3-3064-4d5a-9791-61f2e75a3411"
   },
   "outputs": [
    {
     "data": {
      "text/plain": [
       "(10000, 50)"
      ]
     },
     "execution_count": 104,
     "metadata": {},
     "output_type": "execute_result"
    }
   ],
   "source": [
    "df.shape"
   ]
  },
  {
   "cell_type": "code",
   "execution_count": 105,
   "id": "6ee8c6dd",
   "metadata": {
    "colab": {
     "base_uri": "https://localhost:8080/"
    },
    "id": "6ee8c6dd",
    "outputId": "2cfec3c0-1485-4394-b642-1b0cbecd7944"
   },
   "outputs": [
    {
     "data": {
      "text/plain": [
       "Index(['emp_title', 'emp_length', 'state', 'homeownership', 'annual_income',\n",
       "       'verified_income', 'debt_to_income', 'delinq_2y',\n",
       "       'earliest_credit_line', 'inquiries_last_12m', 'total_credit_lines',\n",
       "       'open_credit_lines', 'total_credit_limit', 'total_credit_utilized',\n",
       "       'num_collections_last_12m', 'num_historical_failed_to_pay',\n",
       "       'current_accounts_delinq', 'total_collection_amount_ever',\n",
       "       'current_installment_accounts', 'accounts_opened_24m',\n",
       "       'months_since_last_credit_inquiry', 'num_satisfactory_accounts',\n",
       "       'num_accounts_120d_past_due', 'num_accounts_30d_past_due',\n",
       "       'num_active_debit_accounts', 'total_debit_limit',\n",
       "       'num_total_cc_accounts', 'num_open_cc_accounts',\n",
       "       'num_cc_carrying_balance', 'num_mort_accounts',\n",
       "       'account_never_delinq_percent', 'tax_liens', 'public_record_bankrupt',\n",
       "       'loan_purpose', 'application_type', 'loan_amount', 'term',\n",
       "       'interest_rate', 'installment', 'grade', 'sub_grade', 'issue_month',\n",
       "       'loan_status', 'initial_listing_status', 'disbursement_method',\n",
       "       'balance', 'paid_total', 'paid_principal', 'paid_interest',\n",
       "       'paid_late_fees'],\n",
       "      dtype='object')"
      ]
     },
     "execution_count": 105,
     "metadata": {},
     "output_type": "execute_result"
    }
   ],
   "source": [
    "df.columns"
   ]
  },
  {
   "cell_type": "code",
   "execution_count": 106,
   "id": "51069e3f",
   "metadata": {
    "id": "51069e3f"
   },
   "outputs": [],
   "source": [
    "df = df.dropna( how='any',\n",
    "                    subset=['emp_title', 'debt_to_income'])"
   ]
  },
  {
   "cell_type": "code",
   "execution_count": 107,
   "id": "a26486de",
   "metadata": {
    "colab": {
     "base_uri": "https://localhost:8080/"
    },
    "id": "a26486de",
    "outputId": "341b9402-84ec-45dd-dca9-02fe8f825939"
   },
   "outputs": [
    {
     "data": {
      "text/plain": [
       "(9166, 50)"
      ]
     },
     "execution_count": 107,
     "metadata": {},
     "output_type": "execute_result"
    }
   ],
   "source": [
    "df.shape"
   ]
  },
  {
   "cell_type": "markdown",
   "id": "de5ec0fb",
   "metadata": {},
   "source": [
    "# Immute missing values using KNN"
   ]
  },
  {
   "cell_type": "code",
   "execution_count": 108,
   "id": "b8ec0710",
   "metadata": {
    "id": "b8ec0710"
   },
   "outputs": [],
   "source": [
    "from sklearn.impute import KNNImputer\n",
    "knn_imputer = KNNImputer(n_neighbors = 5)\n",
    "\n",
    "X = np.round(knn_imputer.fit_transform(df[['emp_length']]))\n",
    "pd.DataFrame(X).head()\n",
    "df['emp_length'] = X"
   ]
  },
  {
   "cell_type": "code",
   "execution_count": 109,
   "id": "53649e9e",
   "metadata": {
    "colab": {
     "base_uri": "https://localhost:8080/"
    },
    "id": "53649e9e",
    "outputId": "70d689da-f72f-4c35-a68a-56482409b8f0"
   },
   "outputs": [
    {
     "data": {
      "text/plain": [
       "emp_title                           0.000000\n",
       "emp_length                          0.000000\n",
       "state                               0.000000\n",
       "homeownership                       0.000000\n",
       "annual_income                       0.000000\n",
       "verified_income                     0.000000\n",
       "debt_to_income                      0.000000\n",
       "delinq_2y                           0.000000\n",
       "earliest_credit_line                0.000000\n",
       "inquiries_last_12m                  0.000000\n",
       "total_credit_lines                  0.000000\n",
       "open_credit_lines                   0.000000\n",
       "total_credit_limit                  0.000000\n",
       "total_credit_utilized               0.000000\n",
       "num_collections_last_12m            0.000000\n",
       "num_historical_failed_to_pay        0.000000\n",
       "current_accounts_delinq             0.000000\n",
       "total_collection_amount_ever        0.000000\n",
       "current_installment_accounts        0.000000\n",
       "accounts_opened_24m                 0.000000\n",
       "months_since_last_credit_inquiry    0.122409\n",
       "num_satisfactory_accounts           0.000000\n",
       "num_accounts_120d_past_due          0.032184\n",
       "num_accounts_30d_past_due           0.000000\n",
       "num_active_debit_accounts           0.000000\n",
       "total_debit_limit                   0.000000\n",
       "num_total_cc_accounts               0.000000\n",
       "num_open_cc_accounts                0.000000\n",
       "num_cc_carrying_balance             0.000000\n",
       "num_mort_accounts                   0.000000\n",
       "account_never_delinq_percent        0.000000\n",
       "tax_liens                           0.000000\n",
       "public_record_bankrupt              0.000000\n",
       "loan_purpose                        0.000000\n",
       "application_type                    0.000000\n",
       "loan_amount                         0.000000\n",
       "term                                0.000000\n",
       "interest_rate                       0.000000\n",
       "installment                         0.000000\n",
       "grade                               0.000000\n",
       "sub_grade                           0.000000\n",
       "issue_month                         0.000000\n",
       "loan_status                         0.000000\n",
       "initial_listing_status              0.000000\n",
       "disbursement_method                 0.000000\n",
       "balance                             0.000000\n",
       "paid_total                          0.000000\n",
       "paid_principal                      0.000000\n",
       "paid_interest                       0.000000\n",
       "paid_late_fees                      0.000000\n",
       "dtype: float64"
      ]
     },
     "execution_count": 109,
     "metadata": {},
     "output_type": "execute_result"
    }
   ],
   "source": [
    "df.isnull().mean()"
   ]
  },
  {
   "cell_type": "code",
   "execution_count": 110,
   "id": "88f96031",
   "metadata": {
    "id": "88f96031"
   },
   "outputs": [],
   "source": [
    "obj_features = ['emp_title','state','homeownership', 'verified_income','loan_purpose','application_type','grade','sub_grade','issue_month','loan_status','initial_listing_status','disbursement_method']\n",
    "numOfCategoriesn =[]\n",
    "def findUniqueRecords(features):\n",
    "    for i in features:\n",
    "        numOfCategoriesn.append(df[i].nunique())\n",
    "findUniqueRecords(obj_features)"
   ]
  },
  {
   "cell_type": "code",
   "execution_count": 111,
   "id": "248c0006",
   "metadata": {
    "colab": {
     "base_uri": "https://localhost:8080/"
    },
    "id": "248c0006",
    "outputId": "b82e5051-cc1e-4d7f-9329-33db769c5367"
   },
   "outputs": [
    {
     "data": {
      "text/plain": [
       "[4741, 50, 3, 3, 12, 2, 7, 32, 3, 6, 2, 2]"
      ]
     },
     "execution_count": 111,
     "metadata": {},
     "output_type": "execute_result"
    }
   ],
   "source": [
    "numOfCategoriesn"
   ]
  },
  {
   "cell_type": "markdown",
   "id": "665472ef",
   "metadata": {},
   "source": [
    "# Label encoding"
   ]
  },
  {
   "cell_type": "code",
   "execution_count": 112,
   "id": "c41e2c13",
   "metadata": {
    "id": "c41e2c13"
   },
   "outputs": [],
   "source": [
    "def convertToCat(features):\n",
    "    for i in features:\n",
    "        df[i]=df[i].astype('category')\n",
    "        var = i+\"_cat\"\n",
    "        df[var]=df[i].cat.codes\n",
    "convertToCat(obj_features)"
   ]
  },
  {
   "cell_type": "code",
   "execution_count": 113,
   "id": "dcae2727",
   "metadata": {
    "colab": {
     "base_uri": "https://localhost:8080/",
     "height": 309
    },
    "id": "dcae2727",
    "outputId": "43f077f1-a47e-4ca2-efe5-ee71121f4cff"
   },
   "outputs": [
    {
     "data": {
      "text/html": [
       "<div>\n",
       "<style scoped>\n",
       "    .dataframe tbody tr th:only-of-type {\n",
       "        vertical-align: middle;\n",
       "    }\n",
       "\n",
       "    .dataframe tbody tr th {\n",
       "        vertical-align: top;\n",
       "    }\n",
       "\n",
       "    .dataframe thead th {\n",
       "        text-align: right;\n",
       "    }\n",
       "</style>\n",
       "<table border=\"1\" class=\"dataframe\">\n",
       "  <thead>\n",
       "    <tr style=\"text-align: right;\">\n",
       "      <th></th>\n",
       "      <th>emp_title</th>\n",
       "      <th>emp_length</th>\n",
       "      <th>state</th>\n",
       "      <th>homeownership</th>\n",
       "      <th>annual_income</th>\n",
       "      <th>verified_income</th>\n",
       "      <th>debt_to_income</th>\n",
       "      <th>delinq_2y</th>\n",
       "      <th>earliest_credit_line</th>\n",
       "      <th>inquiries_last_12m</th>\n",
       "      <th>...</th>\n",
       "      <th>homeownership_cat</th>\n",
       "      <th>verified_income_cat</th>\n",
       "      <th>loan_purpose_cat</th>\n",
       "      <th>application_type_cat</th>\n",
       "      <th>grade_cat</th>\n",
       "      <th>sub_grade_cat</th>\n",
       "      <th>issue_month_cat</th>\n",
       "      <th>loan_status_cat</th>\n",
       "      <th>initial_listing_status_cat</th>\n",
       "      <th>disbursement_method_cat</th>\n",
       "    </tr>\n",
       "  </thead>\n",
       "  <tbody>\n",
       "    <tr>\n",
       "      <th>0</th>\n",
       "      <td>global config engineer</td>\n",
       "      <td>3.0</td>\n",
       "      <td>NJ</td>\n",
       "      <td>MORTGAGE</td>\n",
       "      <td>90000.0</td>\n",
       "      <td>Verified</td>\n",
       "      <td>18.01</td>\n",
       "      <td>0</td>\n",
       "      <td>2001</td>\n",
       "      <td>6</td>\n",
       "      <td>...</td>\n",
       "      <td>0</td>\n",
       "      <td>2</td>\n",
       "      <td>7</td>\n",
       "      <td>0</td>\n",
       "      <td>2</td>\n",
       "      <td>12</td>\n",
       "      <td>2</td>\n",
       "      <td>1</td>\n",
       "      <td>1</td>\n",
       "      <td>0</td>\n",
       "    </tr>\n",
       "    <tr>\n",
       "      <th>1</th>\n",
       "      <td>warehouse office clerk</td>\n",
       "      <td>10.0</td>\n",
       "      <td>HI</td>\n",
       "      <td>RENT</td>\n",
       "      <td>40000.0</td>\n",
       "      <td>Not Verified</td>\n",
       "      <td>5.04</td>\n",
       "      <td>0</td>\n",
       "      <td>1996</td>\n",
       "      <td>1</td>\n",
       "      <td>...</td>\n",
       "      <td>2</td>\n",
       "      <td>0</td>\n",
       "      <td>2</td>\n",
       "      <td>0</td>\n",
       "      <td>2</td>\n",
       "      <td>10</td>\n",
       "      <td>0</td>\n",
       "      <td>1</td>\n",
       "      <td>1</td>\n",
       "      <td>0</td>\n",
       "    </tr>\n",
       "    <tr>\n",
       "      <th>2</th>\n",
       "      <td>assembly</td>\n",
       "      <td>3.0</td>\n",
       "      <td>WI</td>\n",
       "      <td>RENT</td>\n",
       "      <td>40000.0</td>\n",
       "      <td>Source Verified</td>\n",
       "      <td>21.15</td>\n",
       "      <td>0</td>\n",
       "      <td>2006</td>\n",
       "      <td>4</td>\n",
       "      <td>...</td>\n",
       "      <td>2</td>\n",
       "      <td>1</td>\n",
       "      <td>8</td>\n",
       "      <td>0</td>\n",
       "      <td>3</td>\n",
       "      <td>15</td>\n",
       "      <td>0</td>\n",
       "      <td>1</td>\n",
       "      <td>0</td>\n",
       "      <td>0</td>\n",
       "    </tr>\n",
       "    <tr>\n",
       "      <th>3</th>\n",
       "      <td>customer service</td>\n",
       "      <td>1.0</td>\n",
       "      <td>PA</td>\n",
       "      <td>RENT</td>\n",
       "      <td>30000.0</td>\n",
       "      <td>Not Verified</td>\n",
       "      <td>10.16</td>\n",
       "      <td>0</td>\n",
       "      <td>2007</td>\n",
       "      <td>0</td>\n",
       "      <td>...</td>\n",
       "      <td>2</td>\n",
       "      <td>0</td>\n",
       "      <td>2</td>\n",
       "      <td>0</td>\n",
       "      <td>0</td>\n",
       "      <td>2</td>\n",
       "      <td>1</td>\n",
       "      <td>1</td>\n",
       "      <td>1</td>\n",
       "      <td>0</td>\n",
       "    </tr>\n",
       "    <tr>\n",
       "      <th>4</th>\n",
       "      <td>security supervisor</td>\n",
       "      <td>10.0</td>\n",
       "      <td>CA</td>\n",
       "      <td>RENT</td>\n",
       "      <td>35000.0</td>\n",
       "      <td>Verified</td>\n",
       "      <td>57.96</td>\n",
       "      <td>0</td>\n",
       "      <td>2008</td>\n",
       "      <td>7</td>\n",
       "      <td>...</td>\n",
       "      <td>2</td>\n",
       "      <td>2</td>\n",
       "      <td>1</td>\n",
       "      <td>1</td>\n",
       "      <td>2</td>\n",
       "      <td>12</td>\n",
       "      <td>2</td>\n",
       "      <td>1</td>\n",
       "      <td>1</td>\n",
       "      <td>0</td>\n",
       "    </tr>\n",
       "  </tbody>\n",
       "</table>\n",
       "<p>5 rows × 62 columns</p>\n",
       "</div>"
      ],
      "text/plain": [
       "                 emp_title  emp_length state homeownership  annual_income  \\\n",
       "0  global config engineer          3.0    NJ      MORTGAGE        90000.0   \n",
       "1   warehouse office clerk        10.0    HI          RENT        40000.0   \n",
       "2                 assembly         3.0    WI          RENT        40000.0   \n",
       "3         customer service         1.0    PA          RENT        30000.0   \n",
       "4     security supervisor         10.0    CA          RENT        35000.0   \n",
       "\n",
       "   verified_income  debt_to_income  delinq_2y  earliest_credit_line  \\\n",
       "0         Verified           18.01          0                  2001   \n",
       "1     Not Verified            5.04          0                  1996   \n",
       "2  Source Verified           21.15          0                  2006   \n",
       "3     Not Verified           10.16          0                  2007   \n",
       "4         Verified           57.96          0                  2008   \n",
       "\n",
       "   inquiries_last_12m  ...  homeownership_cat  verified_income_cat  \\\n",
       "0                   6  ...                  0                    2   \n",
       "1                   1  ...                  2                    0   \n",
       "2                   4  ...                  2                    1   \n",
       "3                   0  ...                  2                    0   \n",
       "4                   7  ...                  2                    2   \n",
       "\n",
       "   loan_purpose_cat  application_type_cat  grade_cat  sub_grade_cat  \\\n",
       "0                 7                     0          2             12   \n",
       "1                 2                     0          2             10   \n",
       "2                 8                     0          3             15   \n",
       "3                 2                     0          0              2   \n",
       "4                 1                     1          2             12   \n",
       "\n",
       "   issue_month_cat  loan_status_cat  initial_listing_status_cat  \\\n",
       "0                2                1                           1   \n",
       "1                0                1                           1   \n",
       "2                0                1                           0   \n",
       "3                1                1                           1   \n",
       "4                2                1                           1   \n",
       "\n",
       "   disbursement_method_cat  \n",
       "0                        0  \n",
       "1                        0  \n",
       "2                        0  \n",
       "3                        0  \n",
       "4                        0  \n",
       "\n",
       "[5 rows x 62 columns]"
      ]
     },
     "execution_count": 113,
     "metadata": {},
     "output_type": "execute_result"
    }
   ],
   "source": [
    "df.head()"
   ]
  },
  {
   "cell_type": "markdown",
   "id": "5cdce392",
   "metadata": {},
   "source": [
    "# Remove all categorical variable and add corresponding labels"
   ]
  },
  {
   "cell_type": "code",
   "execution_count": 114,
   "id": "f2864889",
   "metadata": {
    "id": "f2864889"
   },
   "outputs": [],
   "source": [
    "dropFeatures=['emp_title','state','homeownership', 'verified_income','loan_purpose','application_type','grade','sub_grade','issue_month','loan_status',\"num_accounts_120d_past_due\",\"months_since_last_credit_inquiry\",'initial_listing_status','disbursement_method',\"interest_rate\"]\n",
    "X = df.drop(columns=dropFeatures,axis=1)\n",
    "y = df['interest_rate']\n",
    "\n",
    "\n"
   ]
  },
  {
   "cell_type": "code",
   "execution_count": 115,
   "id": "krfG4s7cfAyO",
   "metadata": {
    "id": "krfG4s7cfAyO"
   },
   "outputs": [],
   "source": [
    "feature_list = X.columns"
   ]
  },
  {
   "cell_type": "markdown",
   "id": "4c7c7559",
   "metadata": {},
   "source": [
    "# Visualization"
   ]
  },
  {
   "cell_type": "code",
   "execution_count": 116,
   "id": "DsvyDB6Tpq8j",
   "metadata": {
    "colab": {
     "base_uri": "https://localhost:8080/",
     "height": 485
    },
    "id": "DsvyDB6Tpq8j",
    "outputId": "7bf8c3a9-f0e5-42be-a007-d9cdce966385"
   },
   "outputs": [
    {
     "data": {
      "image/png": "[encoded data removed]",
      "text/plain": [
       "<Figure size 864x576 with 2 Axes>"
      ]
     },
     "metadata": {
      "needs_background": "light"
     },
     "output_type": "display_data"
    }
   ],
   "source": [
    "#Scatter plot between interest rate and grade associated with grade of loan\n",
    "df.plot.scatter(x='grade_cat', y='interest_rate', figsize=(12,8),title= \"Scatter plot between grade and Interest rate\",c=\"interest_rate\",cmap='viridis');\n",
    "\n",
    "plt.show(block=True);\n",
    "\n"
   ]
  },
  {
   "cell_type": "code",
   "execution_count": 117,
   "id": "E2Sia3iZECoi",
   "metadata": {
    "colab": {
     "base_uri": "https://localhost:8080/",
     "height": 485
    },
    "id": "E2Sia3iZECoi",
    "outputId": "0407fb0a-3601-4fcc-bb53-9bc00efa1c5a"
   },
   "outputs": [
    {
     "data": {
      "image/png": "[encoded data removed]",
      "text/plain": [
       "<Figure size 864x576 with 2 Axes>"
      ]
     },
     "metadata": {
      "needs_background": "light"
     },
     "output_type": "display_data"
    }
   ],
   "source": [
    "#Scatter plot between interest rate and grade associated with subgrade of loan\n",
    "df.plot.scatter(x='sub_grade_cat', y='interest_rate', title= \"Scatter plot between grade and Interest rate\",c='interest_rate',colormap='viridis',figsize=(12,8));\n",
    "\n",
    "plt.show(block=True);"
   ]
  },
  {
   "cell_type": "code",
   "execution_count": 118,
   "id": "qA4fxwwBE1XB",
   "metadata": {
    "colab": {
     "base_uri": "https://localhost:8080/",
     "height": 533
    },
    "id": "qA4fxwwBE1XB",
    "outputId": "0e9e0320-aaf4-470b-bfc5-4042efcbc985"
   },
   "outputs": [
    {
     "data": {
      "text/plain": [
       "array([[<matplotlib.axes._subplots.AxesSubplot object at 0x000001D5814CF3D0>]],\n",
       "      dtype=object)"
      ]
     },
     "execution_count": 118,
     "metadata": {},
     "output_type": "execute_result"
    },
    {
     "data": {
      "image/png": "[encoded data removed]",
      "text/plain": [
       "<Figure size 864x576 with 1 Axes>"
      ]
     },
     "metadata": {
      "needs_background": "light"
     },
     "output_type": "display_data"
    }
   ],
   "source": [
    "#Histogram plot of employee tenure\n",
    "df.hist(column='emp_length', bins=25, grid=False, figsize=(12,8), color='#86bf91', zorder=2, rwidth=0.9)"
   ]
  },
  {
   "cell_type": "code",
   "execution_count": 119,
   "id": "ggoRmEdZ-N8N",
   "metadata": {
    "colab": {
     "base_uri": "https://localhost:8080/",
     "height": 533
    },
    "id": "ggoRmEdZ-N8N",
    "outputId": "6fca78e0-4458-46d3-ecf3-d52e30c7535b"
   },
   "outputs": [
    {
     "data": {
      "text/plain": [
       "array([[<matplotlib.axes._subplots.AxesSubplot object at 0x000001D584C717F0>]],\n",
       "      dtype=object)"
      ]
     },
     "execution_count": 119,
     "metadata": {},
     "output_type": "execute_result"
    },
    {
     "data": {
      "image/png": "[encoded data removed]",
      "text/plain": [
       "<Figure size 864x576 with 1 Axes>"
      ]
     },
     "metadata": {
      "needs_background": "light"
     },
     "output_type": "display_data"
    }
   ],
   "source": [
    "#Histogram of interest rate \n",
    "df.hist(column='interest_rate', bins=25, grid=False, figsize=(12,8), color='#86bf91', zorder=2, rwidth=0.9)"
   ]
  },
  {
   "cell_type": "code",
   "execution_count": 120,
   "id": "64Xsr0xe-z9d",
   "metadata": {
    "colab": {
     "base_uri": "https://localhost:8080/",
     "height": 533
    },
    "id": "64Xsr0xe-z9d",
    "outputId": "781103f1-6741-4e87-a697-60cf21d35169"
   },
   "outputs": [
    {
     "data": {
      "text/plain": [
       "array([[<matplotlib.axes._subplots.AxesSubplot object at 0x000001D5852EC610>]],\n",
       "      dtype=object)"
      ]
     },
     "execution_count": 120,
     "metadata": {},
     "output_type": "execute_result"
    },
    {
     "data": {
      "image/png": "[encoded data removed]",
      "text/plain": [
       "<Figure size 864x576 with 1 Axes>"
      ]
     },
     "metadata": {
      "needs_background": "light"
     },
     "output_type": "display_data"
    }
   ],
   "source": [
    "#Histogram of term \n",
    "df.hist(column='term', bins=25, grid=False, figsize=(12,8), color='#86bf91', zorder=2, rwidth=0.9)"
   ]
  },
  {
   "cell_type": "markdown",
   "id": "8199a84f",
   "metadata": {},
   "source": [
    "# Train test Split"
   ]
  },
  {
   "cell_type": "code",
   "execution_count": 121,
   "id": "f7af7cbb",
   "metadata": {
    "id": "f7af7cbb"
   },
   "outputs": [],
   "source": [
    "X_train, X_test, y_train, y_test = train_test_split(X, y, test_size=0.33, random_state=42)"
   ]
  },
  {
   "cell_type": "markdown",
   "id": "7a3ec0e4",
   "metadata": {},
   "source": [
    "# Standardization"
   ]
  },
  {
   "cell_type": "code",
   "execution_count": 122,
   "id": "45cde92e",
   "metadata": {
    "id": "45cde92e"
   },
   "outputs": [],
   "source": [
    "scaler = StandardScaler()\n",
    "X_train = scaler.fit_transform(X_train)\n",
    "X_test = scaler.transform(X_test)\n"
   ]
  },
  {
   "cell_type": "markdown",
   "id": "b18b1164",
   "metadata": {},
   "source": [
    "# Linear Regression"
   ]
  },
  {
   "cell_type": "code",
   "execution_count": 123,
   "id": "aRbJLSrTOsVU",
   "metadata": {
    "colab": {
     "base_uri": "https://localhost:8080/"
    },
    "id": "aRbJLSrTOsVU",
    "outputId": "a23c7d44-52dd-4780-8ae5-3faa1d646524"
   },
   "outputs": [
    {
     "data": {
      "text/plain": [
       "LinearRegression()"
      ]
     },
     "execution_count": 123,
     "metadata": {},
     "output_type": "execute_result"
    }
   ],
   "source": [
    "regressor = LinearRegression()\n",
    "regressor.fit(X_train, y_train)"
   ]
  },
  {
   "cell_type": "markdown",
   "id": "143ec763",
   "metadata": {},
   "source": [
    "# Intercept of linear regression"
   ]
  },
  {
   "cell_type": "code",
   "execution_count": 124,
   "id": "4-1GmmA6Ya1m",
   "metadata": {
    "colab": {
     "base_uri": "https://localhost:8080/"
    },
    "id": "4-1GmmA6Ya1m",
    "outputId": "e4ded637-6152-40cf-e11d-de6bee28141b"
   },
   "outputs": [
    {
     "name": "stdout",
     "output_type": "stream",
     "text": [
      "12.42006513597318\n"
     ]
    }
   ],
   "source": [
    "print(regressor.intercept_)"
   ]
  },
  {
   "cell_type": "markdown",
   "id": "07bb6cd1",
   "metadata": {},
   "source": [
    "# linear regression coefficient"
   ]
  },
  {
   "cell_type": "code",
   "execution_count": 125,
   "id": "tJzbn3MJYd1w",
   "metadata": {
    "colab": {
     "base_uri": "https://localhost:8080/"
    },
    "id": "tJzbn3MJYd1w",
    "outputId": "015d5173-4fa4-4534-89da-7c8ac98e4804"
   },
   "outputs": [
    {
     "name": "stdout",
     "output_type": "stream",
     "text": [
      "[ 1.37907718e-02  3.66660539e-03 -1.86366828e-02 -4.41902948e-03\n",
      " -2.08534279e-02 -1.12929162e-02  4.96943056e-03  1.67593860e-01\n",
      "  2.51680302e-02 -3.33770144e-02 -5.05953936e-03 -9.82041570e-03\n",
      "  3.25519142e-06  5.04235573e-03  3.76449375e-02 -1.07130691e-02\n",
      " -2.11570541e-01  1.09945177e-06 -3.41655625e-02  9.27524109e-02\n",
      "  5.62347560e-03  5.15355435e-02 -4.65444875e-02 -5.16336507e-03\n",
      "  2.03960411e-02 -2.09861402e-03 -1.14918792e-02 -8.20358967e-01\n",
      "  2.30042269e-01  7.93850910e-01 -1.20153018e-01 -3.23163510e+04\n",
      "  3.17684869e+04  4.14797883e+03  1.50810318e+01  2.74579679e-04\n",
      "  1.37822117e-03 -3.81091556e-03 -1.91898633e-03  1.89835428e-02\n",
      "  1.95032602e-02  4.63665835e-01  4.40494393e+00  3.34615055e-02\n",
      "  3.01582050e-02  7.37906286e-03  4.17964394e-02]\n"
     ]
    }
   ],
   "source": [
    "print(regressor.coef_)"
   ]
  },
  {
   "cell_type": "code",
   "execution_count": 126,
   "id": "kywLUkdBYlcg",
   "metadata": {
    "id": "kywLUkdBYlcg"
   },
   "outputs": [],
   "source": [
    "y_pred = regressor.predict(X_test)"
   ]
  },
  {
   "cell_type": "markdown",
   "id": "b05532e9",
   "metadata": {},
   "source": [
    "# Predicted V/s Actual values"
   ]
  },
  {
   "cell_type": "code",
   "execution_count": 127,
   "id": "G0bI5aKwYr24",
   "metadata": {
    "colab": {
     "base_uri": "https://localhost:8080/",
     "height": 419
    },
    "id": "G0bI5aKwYr24",
    "outputId": "7c3dfd04-36b4-4cae-c795-7a62f218ddb7"
   },
   "outputs": [
    {
     "data": {
      "text/html": [
       "<div>\n",
       "<style scoped>\n",
       "    .dataframe tbody tr th:only-of-type {\n",
       "        vertical-align: middle;\n",
       "    }\n",
       "\n",
       "    .dataframe tbody tr th {\n",
       "        vertical-align: top;\n",
       "    }\n",
       "\n",
       "    .dataframe thead th {\n",
       "        text-align: right;\n",
       "    }\n",
       "</style>\n",
       "<table border=\"1\" class=\"dataframe\">\n",
       "  <thead>\n",
       "    <tr style=\"text-align: right;\">\n",
       "      <th></th>\n",
       "      <th>Actual</th>\n",
       "      <th>Predicted</th>\n",
       "    </tr>\n",
       "  </thead>\n",
       "  <tbody>\n",
       "    <tr>\n",
       "      <th>792</th>\n",
       "      <td>5.32</td>\n",
       "      <td>4.347361</td>\n",
       "    </tr>\n",
       "    <tr>\n",
       "      <th>2013</th>\n",
       "      <td>10.42</td>\n",
       "      <td>10.329332</td>\n",
       "    </tr>\n",
       "    <tr>\n",
       "      <th>2224</th>\n",
       "      <td>9.44</td>\n",
       "      <td>9.163028</td>\n",
       "    </tr>\n",
       "    <tr>\n",
       "      <th>1426</th>\n",
       "      <td>17.47</td>\n",
       "      <td>17.546188</td>\n",
       "    </tr>\n",
       "    <tr>\n",
       "      <th>6349</th>\n",
       "      <td>14.08</td>\n",
       "      <td>14.661853</td>\n",
       "    </tr>\n",
       "    <tr>\n",
       "      <th>...</th>\n",
       "      <td>...</td>\n",
       "      <td>...</td>\n",
       "    </tr>\n",
       "    <tr>\n",
       "      <th>8436</th>\n",
       "      <td>7.96</td>\n",
       "      <td>7.764793</td>\n",
       "    </tr>\n",
       "    <tr>\n",
       "      <th>8469</th>\n",
       "      <td>7.97</td>\n",
       "      <td>7.747396</td>\n",
       "    </tr>\n",
       "    <tr>\n",
       "      <th>4212</th>\n",
       "      <td>6.72</td>\n",
       "      <td>6.249314</td>\n",
       "    </tr>\n",
       "    <tr>\n",
       "      <th>9042</th>\n",
       "      <td>14.07</td>\n",
       "      <td>14.676131</td>\n",
       "    </tr>\n",
       "    <tr>\n",
       "      <th>7702</th>\n",
       "      <td>6.07</td>\n",
       "      <td>6.003668</td>\n",
       "    </tr>\n",
       "  </tbody>\n",
       "</table>\n",
       "<p>3025 rows × 2 columns</p>\n",
       "</div>"
      ],
      "text/plain": [
       "      Actual  Predicted\n",
       "792     5.32   4.347361\n",
       "2013   10.42  10.329332\n",
       "2224    9.44   9.163028\n",
       "1426   17.47  17.546188\n",
       "6349   14.08  14.661853\n",
       "...      ...        ...\n",
       "8436    7.96   7.764793\n",
       "8469    7.97   7.747396\n",
       "4212    6.72   6.249314\n",
       "9042   14.07  14.676131\n",
       "7702    6.07   6.003668\n",
       "\n",
       "[3025 rows x 2 columns]"
      ]
     },
     "execution_count": 127,
     "metadata": {},
     "output_type": "execute_result"
    }
   ],
   "source": [
    "df = pd.DataFrame({'Actual': y_test, 'Predicted': y_pred})\n",
    "df"
   ]
  },
  {
   "cell_type": "markdown",
   "id": "7adaec8d",
   "metadata": {},
   "source": [
    "# Model metrics "
   ]
  },
  {
   "cell_type": "code",
   "execution_count": 128,
   "id": "IIW6FtXsY3dq",
   "metadata": {
    "colab": {
     "base_uri": "https://localhost:8080/"
    },
    "id": "IIW6FtXsY3dq",
    "outputId": "6f31a283-1de1-4915-9092-1a84375bacfe"
   },
   "outputs": [
    {
     "name": "stdout",
     "output_type": "stream",
     "text": [
      "Mean Absolute Error: 0.41298329499770947\n",
      "Mean Squared Error: 0.33439633712754796\n",
      "Root Mean Squared Error: 0.5782701247060477\n"
     ]
    }
   ],
   "source": [
    "from sklearn import metrics\n",
    "print('Mean Absolute Error:', metrics.mean_absolute_error(y_test, y_pred))\n",
    "print('Mean Squared Error:', metrics.mean_squared_error(y_test, y_pred))\n",
    "print('Root Mean Squared Error:', np.sqrt(metrics.mean_squared_error(y_test, y_pred)))"
   ]
  },
  {
   "cell_type": "markdown",
   "id": "34259268",
   "metadata": {},
   "source": [
    "# Backtracking"
   ]
  },
  {
   "cell_type": "code",
   "execution_count": 129,
   "id": "KacvMcBSXfIc",
   "metadata": {
    "colab": {
     "base_uri": "https://localhost:8080/",
     "height": 500
    },
    "id": "KacvMcBSXfIc",
    "outputId": "a4159232-913c-42b4-f569-3620aac42bf7"
   },
   "outputs": [
    {
     "data": {
      "text/plain": [
       "<matplotlib.legend.Legend at 0x1d580f1b670>"
      ]
     },
     "execution_count": 129,
     "metadata": {},
     "output_type": "execute_result"
    },
    {
     "data": {
      "image/png": "[encoded data removed]",
      "text/plain": [
       "<Figure size 1152x576 with 1 Axes>"
      ]
     },
     "metadata": {
      "needs_background": "light"
     },
     "output_type": "display_data"
    }
   ],
   "source": [
    "test = pd.DataFrame({'Predicted value':y_pred, 'Actual value':y_test})\n",
    "fig= plt.figure(figsize=(16,8))\n",
    "test = test.reset_index()\n",
    "test = test.drop(['index'],axis=1)\n",
    "plt.plot(test[:50])\n",
    "plt.legend(['Actual value','Predicted value'])"
   ]
  },
  {
   "cell_type": "markdown",
   "id": "1eedce81",
   "metadata": {},
   "source": [
    "# Lasso "
   ]
  },
  {
   "cell_type": "code",
   "execution_count": 130,
   "id": "EasHv6SpacGj",
   "metadata": {
    "colab": {
     "base_uri": "https://localhost:8080/"
    },
    "id": "EasHv6SpacGj",
    "outputId": "44e7319a-abf3-4e6b-ee1c-62383d0f5bda"
   },
   "outputs": [
    {
     "data": {
      "text/plain": [
       "12.42006513597134"
      ]
     },
     "execution_count": 130,
     "metadata": {},
     "output_type": "execute_result"
    }
   ],
   "source": [
    "lasso_model = Lasso().fit(X_train,y_train)\n",
    "lasso_model.intercept_\n"
   ]
  },
  {
   "cell_type": "markdown",
   "id": "a126cb6c",
   "metadata": {},
   "source": [
    "# Lasso coefficient"
   ]
  },
  {
   "cell_type": "code",
   "execution_count": 131,
   "id": "Wtg3UmtXandK",
   "metadata": {
    "colab": {
     "base_uri": "https://localhost:8080/"
    },
    "id": "Wtg3UmtXandK",
    "outputId": "34c73e56-68ae-4736-e722-6ce32a3c5686"
   },
   "outputs": [
    {
     "data": {
      "text/plain": [
       "array([-0.        , -0.        ,  0.        ,  0.        ,  0.        ,\n",
       "        0.        , -0.        , -0.        , -0.        ,  0.        ,\n",
       "        0.        ,  0.        ,  0.        ,  0.        ,  0.        ,\n",
       "        0.        , -0.        ,  0.        ,  0.        , -0.        ,\n",
       "       -0.        , -0.        ,  0.        , -0.        , -0.        ,\n",
       "        0.        ,  0.        ,  0.        ,  0.        ,  0.        ,\n",
       "        0.        ,  0.        , -0.        ,  0.        ,  0.        ,\n",
       "       -0.        , -0.        ,  0.        ,  0.        ,  0.        ,\n",
       "        0.        ,  0.        ,  3.96447706, -0.        ,  0.        ,\n",
       "       -0.        , -0.        ])"
      ]
     },
     "execution_count": 131,
     "metadata": {},
     "output_type": "execute_result"
    }
   ],
   "source": [
    "lasso_model.coef_"
   ]
  },
  {
   "cell_type": "code",
   "execution_count": 132,
   "id": "98nWV83Tanlg",
   "metadata": {
    "id": "98nWV83Tanlg"
   },
   "outputs": [],
   "source": [
    "lasso = Lasso()\n",
    "coefs = []\n",
    "alphas = np.random.randint(0,1000,100)\n",
    "\n",
    "# 10**np.linspace(10,-2,100)*0.5 -- It can be used instead of alphas and observed.\n",
    "\n",
    "for a in alphas:\n",
    "    lasso.set_params(alpha = a)\n",
    "    lasso.fit(X_train,y_train)\n",
    "    coefs.append(lasso.coef_)"
   ]
  },
  {
   "cell_type": "code",
   "execution_count": 133,
   "id": "goODq7_Aa5Fq",
   "metadata": {
    "colab": {
     "base_uri": "https://localhost:8080/",
     "height": 269
    },
    "id": "goODq7_Aa5Fq",
    "outputId": "a08ef4d8-b8ac-4d1e-fbae-e927bcde6a6d"
   },
   "outputs": [
    {
     "data": {
      "image/png": "[encoded data removed]",
      "text/plain": [
       "<Figure size 432x288 with 1 Axes>"
      ]
     },
     "metadata": {
      "needs_background": "light"
     },
     "output_type": "display_data"
    }
   ],
   "source": [
    "ax = plt.gca()\n",
    "\n",
    "ax.plot(alphas, coefs)\n",
    "ax.set_xscale(\"log\")"
   ]
  },
  {
   "cell_type": "code",
   "execution_count": 134,
   "id": "C5sio2v9baJw",
   "metadata": {
    "id": "C5sio2v9baJw"
   },
   "outputs": [],
   "source": [
    "y_pred = lasso_model.predict(X_test)\n"
   ]
  },
  {
   "cell_type": "code",
   "execution_count": 135,
   "id": "STcdZS4mbnVS",
   "metadata": {
    "colab": {
     "base_uri": "https://localhost:8080/",
     "height": 419
    },
    "id": "STcdZS4mbnVS",
    "outputId": "7cda23ab-5591-4e59-df72-93171189be96"
   },
   "outputs": [
    {
     "data": {
      "text/html": [
       "<div>\n",
       "<style scoped>\n",
       "    .dataframe tbody tr th:only-of-type {\n",
       "        vertical-align: middle;\n",
       "    }\n",
       "\n",
       "    .dataframe tbody tr th {\n",
       "        vertical-align: top;\n",
       "    }\n",
       "\n",
       "    .dataframe thead th {\n",
       "        text-align: right;\n",
       "    }\n",
       "</style>\n",
       "<table border=\"1\" class=\"dataframe\">\n",
       "  <thead>\n",
       "    <tr style=\"text-align: right;\">\n",
       "      <th></th>\n",
       "      <th>Actual</th>\n",
       "      <th>Predicted</th>\n",
       "    </tr>\n",
       "  </thead>\n",
       "  <tbody>\n",
       "    <tr>\n",
       "      <th>792</th>\n",
       "      <td>5.32</td>\n",
       "      <td>6.225497</td>\n",
       "    </tr>\n",
       "    <tr>\n",
       "      <th>2013</th>\n",
       "      <td>10.42</td>\n",
       "      <td>10.965451</td>\n",
       "    </tr>\n",
       "    <tr>\n",
       "      <th>2224</th>\n",
       "      <td>9.44</td>\n",
       "      <td>9.611179</td>\n",
       "    </tr>\n",
       "    <tr>\n",
       "      <th>1426</th>\n",
       "      <td>17.47</td>\n",
       "      <td>16.382542</td>\n",
       "    </tr>\n",
       "    <tr>\n",
       "      <th>6349</th>\n",
       "      <td>14.08</td>\n",
       "      <td>14.351133</td>\n",
       "    </tr>\n",
       "    <tr>\n",
       "      <th>...</th>\n",
       "      <td>...</td>\n",
       "      <td>...</td>\n",
       "    </tr>\n",
       "    <tr>\n",
       "      <th>8436</th>\n",
       "      <td>7.96</td>\n",
       "      <td>8.934042</td>\n",
       "    </tr>\n",
       "    <tr>\n",
       "      <th>8469</th>\n",
       "      <td>7.97</td>\n",
       "      <td>8.934042</td>\n",
       "    </tr>\n",
       "    <tr>\n",
       "      <th>4212</th>\n",
       "      <td>6.72</td>\n",
       "      <td>7.579769</td>\n",
       "    </tr>\n",
       "    <tr>\n",
       "      <th>9042</th>\n",
       "      <td>14.07</td>\n",
       "      <td>14.351133</td>\n",
       "    </tr>\n",
       "    <tr>\n",
       "      <th>7702</th>\n",
       "      <td>6.07</td>\n",
       "      <td>6.902633</td>\n",
       "    </tr>\n",
       "  </tbody>\n",
       "</table>\n",
       "<p>3025 rows × 2 columns</p>\n",
       "</div>"
      ],
      "text/plain": [
       "      Actual  Predicted\n",
       "792     5.32   6.225497\n",
       "2013   10.42  10.965451\n",
       "2224    9.44   9.611179\n",
       "1426   17.47  16.382542\n",
       "6349   14.08  14.351133\n",
       "...      ...        ...\n",
       "8436    7.96   8.934042\n",
       "8469    7.97   8.934042\n",
       "4212    6.72   7.579769\n",
       "9042   14.07  14.351133\n",
       "7702    6.07   6.902633\n",
       "\n",
       "[3025 rows x 2 columns]"
      ]
     },
     "execution_count": 135,
     "metadata": {},
     "output_type": "execute_result"
    }
   ],
   "source": [
    "df = pd.DataFrame({'Actual': y_test, 'Predicted': y_pred})\n",
    "df"
   ]
  },
  {
   "cell_type": "markdown",
   "id": "5e72f05d",
   "metadata": {},
   "source": [
    "# Model Metrics"
   ]
  },
  {
   "cell_type": "code",
   "execution_count": 136,
   "id": "8JMccyvGbre8",
   "metadata": {
    "colab": {
     "base_uri": "https://localhost:8080/"
    },
    "id": "8JMccyvGbre8",
    "outputId": "08157fff-890a-45df-8d96-85968f9776cb"
   },
   "outputs": [
    {
     "name": "stdout",
     "output_type": "stream",
     "text": [
      "Mean Absolute Error: 0.7880163156097301\n",
      "Mean Squared Error: 1.3943103058308062\n",
      "Root Mean Squared Error: 1.180809174181335\n"
     ]
    }
   ],
   "source": [
    "from sklearn import metrics\n",
    "print('Mean Absolute Error:', metrics.mean_absolute_error(y_test, y_pred))\n",
    "print('Mean Squared Error:', metrics.mean_squared_error(y_test, y_pred))\n",
    "print('Root Mean Squared Error:', np.sqrt(metrics.mean_squared_error(y_test, y_pred)))"
   ]
  },
  {
   "cell_type": "markdown",
   "id": "a1438d02",
   "metadata": {},
   "source": [
    "# Back tracking "
   ]
  },
  {
   "cell_type": "code",
   "execution_count": 137,
   "id": "z4jI4Oidb3JX",
   "metadata": {
    "colab": {
     "base_uri": "https://localhost:8080/",
     "height": 500
    },
    "id": "z4jI4Oidb3JX",
    "outputId": "953fe30d-5e92-4f2d-f372-870b70630a19"
   },
   "outputs": [
    {
     "data": {
      "text/plain": [
       "<matplotlib.legend.Legend at 0x1d58511d310>"
      ]
     },
     "execution_count": 137,
     "metadata": {},
     "output_type": "execute_result"
    },
    {
     "data": {
      "image/png": "[encoded data removed]",
      "text/plain": [
       "<Figure size 1152x576 with 1 Axes>"
      ]
     },
     "metadata": {
      "needs_background": "light"
     },
     "output_type": "display_data"
    }
   ],
   "source": [
    "test = pd.DataFrame({'Predicted value':y_pred, 'Actual value':y_test})\n",
    "fig= plt.figure(figsize=(16,8))\n",
    "test = test.reset_index()\n",
    "test = test.drop(['index'],axis=1)\n",
    "plt.plot(test[:50])\n",
    "plt.legend(['Actual value','Predicted value'])"
   ]
  },
  {
   "cell_type": "markdown",
   "id": "4d0811e4",
   "metadata": {},
   "source": [
    "# RandomForest"
   ]
  },
  {
   "cell_type": "code",
   "execution_count": 138,
   "id": "8h3x0RXUb6uc",
   "metadata": {
    "id": "8h3x0RXUb6uc"
   },
   "outputs": [],
   "source": [
    "rf = RandomForestRegressor(n_estimators = 1000, random_state = 42)"
   ]
  },
  {
   "cell_type": "code",
   "execution_count": 139,
   "id": "bii5RNEVcuaa",
   "metadata": {
    "id": "bii5RNEVcuaa"
   },
   "outputs": [],
   "source": [
    "rf.fit(X_train, y_train);"
   ]
  },
  {
   "cell_type": "code",
   "execution_count": 140,
   "id": "bRBA29uVdJaf",
   "metadata": {
    "colab": {
     "base_uri": "https://localhost:8080/"
    },
    "id": "bRBA29uVdJaf",
    "outputId": "f033014c-15d4-4da7-b2ff-9789c80ae942"
   },
   "outputs": [
    {
     "name": "stdout",
     "output_type": "stream",
     "text": [
      "Mean Absolute Error: 0.02 degrees.\n"
     ]
    }
   ],
   "source": [
    "# Use the forest's predict method on the test data\n",
    "predictions = rf.predict(X_test)\n",
    "# Calculate the absolute errors\n",
    "errors = abs(predictions - y_test)\n",
    "# Print out the mean absolute error (mae)\n",
    "print('Mean Absolute Error:', round(np.mean(errors), 2), 'degrees.')"
   ]
  },
  {
   "cell_type": "code",
   "execution_count": 141,
   "id": "NmmrE1xZdfO2",
   "metadata": {
    "colab": {
     "base_uri": "https://localhost:8080/"
    },
    "id": "NmmrE1xZdfO2",
    "outputId": "9ecbcb26-6a11-4e67-f042-f2e96e8bdf56"
   },
   "outputs": [
    {
     "name": "stdout",
     "output_type": "stream",
     "text": [
      "Accuracy: 99.85 %.\n"
     ]
    }
   ],
   "source": [
    "# Calculate mean absolute percentage error (MAPE)\n",
    "mape = 100 * (errors / y_test)\n",
    "# Calculate and display accuracy\n",
    "accuracy = 100 - np.mean(mape)\n",
    "print('Accuracy:', round(accuracy, 2), '%.')"
   ]
  },
  {
   "cell_type": "code",
   "execution_count": 143,
   "id": "zx991pzghD19",
   "metadata": {
    "colab": {
     "base_uri": "https://localhost:8080/"
    },
    "id": "zx991pzghD19",
    "outputId": "269ba9bf-d6ff-4e45-bf41-d43b12dbf8c9"
   },
   "outputs": [
    {
     "name": "stdout",
     "output_type": "stream",
     "text": [
      "Variable: sub_grade_cat        Importance: 0.95\n",
      "Variable: grade_cat            Importance: 0.05\n",
      "Variable: emp_length           Importance: 0.0\n",
      "Variable: annual_income        Importance: 0.0\n",
      "Variable: debt_to_income       Importance: 0.0\n",
      "Variable: delinq_2y            Importance: 0.0\n",
      "Variable: earliest_credit_line Importance: 0.0\n",
      "Variable: inquiries_last_12m   Importance: 0.0\n",
      "Variable: total_credit_lines   Importance: 0.0\n",
      "Variable: open_credit_lines    Importance: 0.0\n",
      "Variable: total_credit_limit   Importance: 0.0\n",
      "Variable: total_credit_utilized Importance: 0.0\n",
      "Variable: num_collections_last_12m Importance: 0.0\n",
      "Variable: num_historical_failed_to_pay Importance: 0.0\n",
      "Variable: current_accounts_delinq Importance: 0.0\n",
      "Variable: total_collection_amount_ever Importance: 0.0\n",
      "Variable: current_installment_accounts Importance: 0.0\n",
      "Variable: accounts_opened_24m  Importance: 0.0\n",
      "Variable: num_satisfactory_accounts Importance: 0.0\n",
      "Variable: num_accounts_30d_past_due Importance: 0.0\n",
      "Variable: num_active_debit_accounts Importance: 0.0\n",
      "Variable: total_debit_limit    Importance: 0.0\n",
      "Variable: num_total_cc_accounts Importance: 0.0\n",
      "Variable: num_open_cc_accounts Importance: 0.0\n",
      "Variable: num_cc_carrying_balance Importance: 0.0\n",
      "Variable: num_mort_accounts    Importance: 0.0\n",
      "Variable: account_never_delinq_percent Importance: 0.0\n",
      "Variable: tax_liens            Importance: 0.0\n",
      "Variable: public_record_bankrupt Importance: 0.0\n",
      "Variable: loan_amount          Importance: 0.0\n",
      "Variable: term                 Importance: 0.0\n",
      "Variable: installment          Importance: 0.0\n",
      "Variable: balance              Importance: 0.0\n",
      "Variable: paid_total           Importance: 0.0\n",
      "Variable: paid_principal       Importance: 0.0\n",
      "Variable: paid_interest        Importance: 0.0\n",
      "Variable: paid_late_fees       Importance: 0.0\n",
      "Variable: emp_title_cat        Importance: 0.0\n",
      "Variable: state_cat            Importance: 0.0\n",
      "Variable: homeownership_cat    Importance: 0.0\n",
      "Variable: verified_income_cat  Importance: 0.0\n",
      "Variable: loan_purpose_cat     Importance: 0.0\n",
      "Variable: application_type_cat Importance: 0.0\n",
      "Variable: issue_month_cat      Importance: 0.0\n",
      "Variable: loan_status_cat      Importance: 0.0\n",
      "Variable: initial_listing_status_cat Importance: 0.0\n",
      "Variable: disbursement_method_cat Importance: 0.0\n"
     ]
    }
   ],
   "source": [
    "# Get numerical feature importances\n",
    "importances = list(rf.feature_importances_)\n",
    "# List of tuples with variable and importance\n",
    "feature_importances = [(feature, round(importance, 2)) for feature, importance in zip(feature_list, importances)]\n",
    "# Sort the feature importances by most important first\n",
    "feature_importances = sorted(feature_importances, key = lambda x: x[1], reverse = True)\n",
    "# Print out the feature and importances \n",
    "[print('Variable: {:20} Importance: {}'.format(*pair)) for pair in feature_importances];"
   ]
  },
  {
   "cell_type": "code",
   "execution_count": 144,
   "id": "XChpCJ1-hXZA",
   "metadata": {
    "colab": {
     "base_uri": "https://localhost:8080/"
    },
    "id": "XChpCJ1-hXZA",
    "outputId": "8ed26bcb-909f-451f-a7d1-2d572ed4efd9"
   },
   "outputs": [
    {
     "name": "stdout",
     "output_type": "stream",
     "text": [
      "Mean Absolute Error: 0.04 degrees.\n",
      "Accuracy: 99.74 %.\n"
     ]
    }
   ],
   "source": [
    "# New random forest with only the two most important variables\n",
    "rf_most_important = RandomForestRegressor(n_estimators= 1000, random_state=42)\n",
    "# Extract the two most important features\n",
    "# grade_cat and sub_grade_cat\n",
    "train_important = X_train[:, [41,42]]\n",
    "test_important = X_test[:, [41,42]]\n",
    "# Train the random forest\n",
    "rf_most_important.fit(train_important, y_train)\n",
    "# Make predictions and determine the error\n",
    "predictions = rf_most_important.predict(test_important)\n",
    "errors = abs(predictions - y_test)\n",
    "# Display the performance metrics\n",
    "print('Mean Absolute Error:', round(np.mean(errors), 2), 'degrees.')\n",
    "mape = np.mean(100 * (errors / y_test))\n",
    "accuracy = 100 - mape\n",
    "print('Accuracy:', round(accuracy, 2), '%.')"
   ]
  },
  {
   "cell_type": "markdown",
   "id": "8aa6d97b",
   "metadata": {},
   "source": [
    "# Imortant varibales "
   ]
  },
  {
   "cell_type": "code",
   "execution_count": 145,
   "id": "P0LETZ4znP1O",
   "metadata": {
    "colab": {
     "base_uri": "https://localhost:8080/",
     "height": 703
    },
    "id": "P0LETZ4znP1O",
    "outputId": "829e0cf5-7de5-4178-b9f3-5a68d3057790"
   },
   "outputs": [
    {
     "data": {
      "image/png": "[encoded data removed]",
      "text/plain": [
       "<Figure size 1332x756 with 1 Axes>"
      ]
     },
     "metadata": {
      "needs_background": "light"
     },
     "output_type": "display_data"
    }
   ],
   "source": [
    "from matplotlib.pyplot import figure\n",
    "fig = plt.gcf()\n",
    "fig.set_size_inches(18.5, 10.5, forward=True)\n",
    "# list of x locations for plotting\n",
    "x_values = list(range(len(importances)))\n",
    "# Make a bar chart\n",
    "plt.bar(x_values, importances, orientation = 'vertical')\n",
    "# Tick labels for x axis\n",
    "plt.xticks(x_values, feature_list, rotation='vertical')\n",
    "# Axis labels and title\n",
    "plt.ylabel('Importance'); plt.xlabel('Variable'); plt.title('Variable Importances');\n"
   ]
  },
  {
   "cell_type": "code",
   "execution_count": 146,
   "id": "OqwazjdQoqtd",
   "metadata": {
    "colab": {
     "base_uri": "https://localhost:8080/",
     "height": 487
    },
    "id": "OqwazjdQoqtd",
    "outputId": "275e2d4f-673c-4b36-e2da-9e1fdb8fb25c"
   },
   "outputs": [
    {
     "data": {
      "text/plain": [
       "<matplotlib.legend.Legend at 0x1d5858fcfd0>"
      ]
     },
     "execution_count": 146,
     "metadata": {},
     "output_type": "execute_result"
    },
    {
     "data": {
      "image/png": "[encoded data removed]",
      "text/plain": [
       "<Figure size 1152x576 with 1 Axes>"
      ]
     },
     "metadata": {
      "needs_background": "light"
     },
     "output_type": "display_data"
    }
   ],
   "source": [
    "test = pd.DataFrame({'Predicted value':predictions, 'Actual value':y_test})\n",
    "fig= plt.figure(figsize=(16,8))\n",
    "test = test.reset_index()\n",
    "test = test.drop(['index'],axis=1)\n",
    "plt.plot(test[:50])\n",
    "plt.legend(['Actual value','Predicted value'])"
   ]
  }
 ],
 "metadata": {
  "colab": {
   "name": "Case_Study1.ipynb",
   "provenance": []
  },
  "kernelspec": {
   "display_name": "Python 3",
   "language": "python",
   "name": "python3"
  },
  "language_info": {
   "codemirror_mode": {
    "name": "ipython",
    "version": 3
   },
   "file_extension": ".py",
   "mimetype": "text/x-python",
   "name": "python",
   "nbconvert_exporter": "python",
   "pygments_lexer": "ipython3",
   "version": "3.8.3"
  }
 },
 "nbformat": 4,
 "nbformat_minor": 5
}
